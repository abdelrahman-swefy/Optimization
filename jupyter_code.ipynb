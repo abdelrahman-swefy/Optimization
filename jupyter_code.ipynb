{
 "cells": [
  {
   "cell_type": "code",
   "execution_count": 60,
   "id": "1ada90d9",
   "metadata": {},
   "outputs": [],
   "source": [
    "# import the necessary libraries\n",
    "import sympy as sym\n",
    "from sympy import solve\n",
    "from sympy.abc import x,y,a\n",
    "import numpy as np\n",
    "import matplotlib.pyplot as plt"
   ]
  },
  {
   "attachments": {},
   "cell_type": "markdown",
   "id": "b491076a",
   "metadata": {},
   "source": [
    "### Minimize \n",
    "$$f(x_1,x_2) = x - y + 2 ( x^2 ) + 2xy + y^2 $$"
   ]
  },
  {
   "cell_type": "code",
   "execution_count": 61,
   "id": "67a3ee57",
   "metadata": {},
   "outputs": [],
   "source": [
    "#write the function\n",
    "f = x - y + 2*(x**2) + 2 * x * y + y**2 "
   ]
  },
  {
   "cell_type": "code",
   "execution_count": 62,
   "id": "b847f7ad",
   "metadata": {},
   "outputs": [],
   "source": [
    "# A Function to get the extreme points using Gradient descent\n",
    "def gradient_descent( f , point ):\n",
    "    \n",
    "    #calculating gradient\n",
    "    gradient = [sym.diff(f,x),sym.diff(f,y)]\n",
    "\n",
    "    #a list to store the value of the gradients which will be returned to be plotted\n",
    "    result = []\n",
    "\n",
    "    iteration = 0\n",
    "\n",
    "    while True:\n",
    "\n",
    "        #substitute with the the point in the gradient\n",
    "        subs_point = [ gradient[0].subs(x, point[0] ), gradient[1].subs(y, point[1]) ]\n",
    "        subs_point = [ subs_point[0].subs(y, point[1])  , subs_point[1].subs(x, point[0])]\n",
    "        \n",
    "        result.append( list(map(float,subs_point)))\n",
    "\n",
    "        #check if the gradient is to small ( our convergence crieteria )\n",
    "        if abs(subs_point[0]) < 0.0001 and abs(subs_point[1]) < 0.0001:\n",
    "            break\n",
    "\n",
    "        \n",
    "        #calculate x + lambda * S\n",
    "        new_point = [ point[0] - a * subs_point[0] , point[1] - a * subs_point[1] ]\n",
    "\n",
    "\n",
    "        subs_new_point = f.subs(x, new_point[0] )\n",
    "        subs_new_point = subs_new_point.subs(y, new_point[1])\n",
    "\n",
    "        # solve for alpha\n",
    "        derivative_alpha = sym.diff(subs_new_point,a)\n",
    "        alpha = solve( derivative_alpha, a)\n",
    "\n",
    "        #getting the new point\n",
    "        new_point = [point[0] - alpha[0] * subs_point[0] , point[1] - alpha[0] * subs_point[1]]\n",
    "        \n",
    "        #storing the value of the new point in the old point for the next iterate\n",
    "        point = list((map(float,new_point) ))\n",
    "        \n",
    "        #incrementing the number of iterations\n",
    "        iteration += 1\n",
    "\n",
    "    return result,point,iteration"
   ]
  },
  {
   "cell_type": "code",
   "execution_count": 63,
   "id": "95eb4976",
   "metadata": {},
   "outputs": [],
   "source": [
    "def newton_raphson(f,point):\n",
    "    \n",
    "    #calculating the gradient\n",
    "    gradient =[sym.diff(f,x),sym.diff(f,y)]\n",
    "\n",
    "    \n",
    "    #a list to store the value of the gradients which will be returned to be plotted\n",
    "    result = []\n",
    "    \n",
    "    iteration = 0\n",
    "\n",
    "    while True:\n",
    "\n",
    "        #calculating the inverse hessian matrix \n",
    "        dx = sym.diff(f,x)\n",
    "        dx2 = sym.diff(dx,x)\n",
    "        dxdy = sym.diff(dx,y)\n",
    "\n",
    "        dy = sym.diff(f,y)\n",
    "        dy2 = sym.diff(dy,y)\n",
    "        dydx = sym.diff(dy,x)\n",
    "\n",
    "        det = dx2 * dy2 - dxdy * dydx\n",
    "        det = 1 / det\n",
    "\n",
    "        hessian_inverse = np.array([ [ det*dy2, - det*dxdy], [- det*dxdy,det*dx2 ]  ])\n",
    "\n",
    "        #substitute with the the point in the gradient\n",
    "        subs_point = [ gradient[0].subs(x, point[0] ), gradient[1].subs(y, point[1]) ]\n",
    "        subs_point = [ subs_point[0].subs(y, point[1])  , subs_point[1].subs(x, point[0])]\n",
    "        subs_point = np.array([[subs_point[0]],[subs_point[1]]])\n",
    "\n",
    "        # store the value of the gradient\n",
    "        result.append( list(map(float,subs_point)))\n",
    "        \n",
    "        #check if the gradient is to small ( our convergence crieteria )\n",
    "        if abs(subs_point[0]) < 0.0001 and abs(subs_point[1]) < 0.0001:\n",
    "            break\n",
    "\n",
    "        #dot product of the inverse of the hessian and the gradient\n",
    "        hessian_times_gradient = np.dot ( hessian_inverse, subs_point)\n",
    "\n",
    "        #calculating the new point\n",
    "        new_point = [ point[0] - hessian_times_gradient[0][0] , point[1] - hessian_times_gradient[1][0] ]\n",
    "\n",
    "        #storing the value of the new point in the old point for the next iterate\n",
    "        point = new_point\n",
    "        \n",
    "        #incrementing the number of iterations\n",
    "        iteration += 1\n",
    "    return result,point,iteration"
   ]
  },
  {
   "cell_type": "code",
   "execution_count": 64,
   "id": "759ec167",
   "metadata": {},
   "outputs": [],
   "source": [
    "#initialization points\n",
    "points = [ [0,0] , [0.5,0.5] , [1,1] ]"
   ]
  },
  {
   "cell_type": "code",
   "execution_count": 65,
   "id": "12923212",
   "metadata": {},
   "outputs": [],
   "source": [
    "# arrays to store the results using gradient descent for different initial points\n",
    "results_gradient = []\n",
    "extreme_point_gradient = []\n",
    "iterations_gradient = []\n",
    "\n",
    "# Minimize using each initial point using newton_raphson\n",
    "for point in points:\n",
    "    \n",
    "    # call the function\n",
    "    [result,point,iteration] = gradient_descent(f,point)\n",
    "    \n",
    "    #store the values\n",
    "    results_gradient.append(result)\n",
    "    extreme_point_gradient.append(point)\n",
    "    iterations_gradient.append(iteration)"
   ]
  },
  {
   "cell_type": "code",
   "execution_count": 66,
   "id": "4f31d352",
   "metadata": {},
   "outputs": [],
   "source": [
    "# arrays to store the results using newton raphson for different initial points\n",
    "results_newton = []\n",
    "extreme_point_newton = []\n",
    "iterations_newton = []\n",
    "\n",
    "# Minimize using each initial point using newton raphson\n",
    "for point in points:\n",
    "    \n",
    "    # call the function\n",
    "    [result,point,iteration] = newton_raphson(f,point)\n",
    "    \n",
    "    #store the values\n",
    "    results_newton.append(result)\n",
    "    extreme_point_newton.append(point)\n",
    "    iterations_newton.append(iteration)"
   ]
  },
  {
   "cell_type": "code",
   "execution_count": 67,
   "id": "1f7ad0c0",
   "metadata": {},
   "outputs": [
    {
     "data": {
      "image/png": "[encoded data removed]",
      "text/plain": [
       "<Figure size 432x288 with 1 Axes>"
      ]
     },
     "metadata": {
      "needs_background": "light"
     },
     "output_type": "display_data"
    },
    {
     "data": {
      "image/png": "[encoded data removed]",
      "text/plain": [
       "<Figure size 432x288 with 1 Axes>"
      ]
     },
     "metadata": {
      "needs_background": "light"
     },
     "output_type": "display_data"
    },
    {
     "data": {
      "image/png": "[encoded data removed]",
      "text/plain": [
       "<Figure size 432x288 with 1 Axes>"
      ]
     },
     "metadata": {
      "needs_background": "light"
     },
     "output_type": "display_data"
    }
   ],
   "source": [
    "i = 0\n",
    "for result_gradient, iteration_gradient, result_newton, iteration_newton in zip(results_gradient, iterations_gradient, results_newton, iterations_newton):\n",
    "    \n",
    "\n",
    "    result_gradient = [ np.sqrt( p[0] ** 2 + p[1] ** 2) for p in result_gradient]\n",
    "    number_iteration_gradient = [i for i in range(iteration_gradient+1)]\n",
    "    \n",
    "    result_newton = [ np.sqrt( p[0] ** 2 + p[1] ** 2) for p in result_newton]\n",
    "    number_iteration_newton = [i for i in range(iteration_newton+1)]\n",
    "    \n",
    "    \n",
    "    plt.figure()\n",
    "    plt.title(f' Initial Point { points[i] }' )\n",
    "    plt.plot(number_iteration_gradient,result_gradient , 'o-' , color = 'b' , label = 'Gradient Descent' )\n",
    "    plt.plot(number_iteration_newton,result_newton, 'o-', color ='orange' , label = 'Newton Raphson')\n",
    "    plt.ylabel('Gradient')\n",
    "    plt.xlabel('Number of iteration')\n",
    "    plt.xticks(number_iteration_gradient)\n",
    "    plt.legend();\n",
    "    i += 1"
   ]
  },
  {
   "cell_type": "code",
   "execution_count": 68,
   "id": "681b1a96",
   "metadata": {},
   "outputs": [
    {
     "name": "stdout",
     "output_type": "stream",
     "text": [
      "Minimum point using Gradient Descent for different initial points [[-0.9999359999999996, 1.4999039999999995], [-0.9999614023426919, 1.4999305242168457], [-0.9999437579637266, 1.4999043885383354]]\n",
      "Minimum point using Gradient Descent for different initial points [[-1, 3/2], [-1.00000000000000, 1.50000000000000], [-1, 3/2]]\n"
     ]
    }
   ],
   "source": [
    "print( f'Minimum point using Gradient Descent for different initial points {extreme_point_gradient}' )\n",
    "print( f'Minimum point using Gradient Descent for different initial points {extreme_point_newton}' )"
   ]
  },
  {
   "cell_type": "code",
   "execution_count": null,
   "id": "1fc45500",
   "metadata": {},
   "outputs": [],
   "source": []
  }
 ],
 "metadata": {
  "hide_input": false,
  "kernelspec": {
   "display_name": "Python 3 (ipykernel)",
   "language": "python",
   "name": "python3"
  },
  "language_info": {
   "codemirror_mode": {
    "name": "ipython",
    "version": 3
   },
   "file_extension": ".py",
   "mimetype": "text/x-python",
   "name": "python",
   "nbconvert_exporter": "python",
   "pygments_lexer": "ipython3",
   "version": "3.9.0"
  }
 },
 "nbformat": 4,
 "nbformat_minor": 5
}
